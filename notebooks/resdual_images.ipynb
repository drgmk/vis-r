{
 "cells": [
  {
   "cell_type": "code",
   "execution_count": 1,
   "id": "initial_id",
   "metadata": {
    "collapsed": true,
    "ExecuteTime": {
     "end_time": "2024-10-28T09:57:51.435019Z",
     "start_time": "2024-10-28T09:57:48.854293Z"
    }
   },
   "outputs": [],
   "source": [
    "import astropy.io\n",
    "import astropy.units as u\n",
    "import matplotlib.pyplot as plt\n",
    "import aplpy"
   ]
  },
  {
   "cell_type": "code",
   "outputs": [],
   "source": [
    "def fix_aplpy_fits(aplpy_obj, dropaxis=2):\n",
    "    \"\"\"This removes the degenerated dimensions in APLpy 2.X...\n",
    "    The input must be the object returned by aplpy.FITSFigure().\n",
    "    `dropaxis` is the index where to start dropping the axis (by default it assumes the 3rd,4th place).\n",
    "    \"\"\"\n",
    "    temp_wcs = aplpy_obj._wcs.dropaxis(dropaxis)\n",
    "    temp_wcs = temp_wcs.dropaxis(dropaxis)\n",
    "    aplpy_obj._wcs = temp_wcs\n"
   ],
   "metadata": {
    "collapsed": false,
    "ExecuteTime": {
     "end_time": "2024-10-28T09:57:53.639033Z",
     "start_time": "2024-10-28T09:57:53.633476Z"
    }
   },
   "id": "3fa9cddae6ee1952",
   "execution_count": 2
  },
  {
   "cell_type": "code",
   "outputs": [],
   "source": [
    "im = '/Users/grant/tmp/dsharp/AS209/visibilities/AS209_continuum.fits'\n",
    "res = 'as209/as209_flat/residuals/residuals.fits'"
   ],
   "metadata": {
    "collapsed": false,
    "ExecuteTime": {
     "end_time": "2024-10-28T09:57:54.623089Z",
     "start_time": "2024-10-28T09:57:54.617263Z"
    }
   },
   "id": "4f8f6d678ea8d670",
   "execution_count": 3
  },
  {
   "cell_type": "code",
   "outputs": [],
   "source": [
    "im = '/Users/grant/astro/data/alma/hr4796_c3/hr4796.fits'\n",
    "res = 'vis-r_1gauss/residuals/residual.fits'"
   ],
   "metadata": {
    "collapsed": false,
    "ExecuteTime": {
     "end_time": "2024-10-28T09:58:29.475248Z",
     "start_time": "2024-10-28T09:58:29.466024Z"
    }
   },
   "id": "36e07208f653a64",
   "execution_count": 6
  },
  {
   "cell_type": "code",
   "outputs": [
    {
     "ename": "FileNotFoundError",
     "evalue": "[Errno 2] No such file or directory: 'vis-r_1gauss2/residuals/residual.fits'",
     "output_type": "error",
     "traceback": [
      "\u001B[0;31m---------------------------------------------------------------------------\u001B[0m",
      "\u001B[0;31mFileNotFoundError\u001B[0m                         Traceback (most recent call last)",
      "Cell \u001B[0;32mIn[7], line 4\u001B[0m\n\u001B[1;32m      2\u001B[0m h1 \u001B[38;5;241m=\u001B[39m astropy\u001B[38;5;241m.\u001B[39mio\u001B[38;5;241m.\u001B[39mfits\u001B[38;5;241m.\u001B[39mopen(im)\n\u001B[1;32m      3\u001B[0m h1[\u001B[38;5;241m0\u001B[39m]\u001B[38;5;241m.\u001B[39mheader[\u001B[38;5;124m'\u001B[39m\u001B[38;5;124mTIMESYS\u001B[39m\u001B[38;5;124m'\u001B[39m] \u001B[38;5;241m=\u001B[39m h1[\u001B[38;5;241m0\u001B[39m]\u001B[38;5;241m.\u001B[39mheader[\u001B[38;5;124m'\u001B[39m\u001B[38;5;124mTIMESYS\u001B[39m\u001B[38;5;124m'\u001B[39m]\u001B[38;5;241m.\u001B[39mlower()\n\u001B[0;32m----> 4\u001B[0m h2 \u001B[38;5;241m=\u001B[39m \u001B[43mastropy\u001B[49m\u001B[38;5;241;43m.\u001B[39;49m\u001B[43mio\u001B[49m\u001B[38;5;241;43m.\u001B[39;49m\u001B[43mfits\u001B[49m\u001B[38;5;241;43m.\u001B[39;49m\u001B[43mopen\u001B[49m\u001B[43m(\u001B[49m\u001B[43mres\u001B[49m\u001B[43m)\u001B[49m\n\u001B[1;32m      5\u001B[0m h2[\u001B[38;5;241m0\u001B[39m]\u001B[38;5;241m.\u001B[39mheader[\u001B[38;5;124m'\u001B[39m\u001B[38;5;124mTIMESYS\u001B[39m\u001B[38;5;124m'\u001B[39m] \u001B[38;5;241m=\u001B[39m h2[\u001B[38;5;241m0\u001B[39m]\u001B[38;5;241m.\u001B[39mheader[\u001B[38;5;124m'\u001B[39m\u001B[38;5;124mTIMESYS\u001B[39m\u001B[38;5;124m'\u001B[39m]\u001B[38;5;241m.\u001B[39mlower()\n\u001B[1;32m      7\u001B[0m h1[\u001B[38;5;241m0\u001B[39m]\u001B[38;5;241m.\u001B[39mdata \u001B[38;5;241m*\u001B[39m\u001B[38;5;241m=\u001B[39m \u001B[38;5;241m1e3\u001B[39m\n",
      "File \u001B[0;32m~/opt/anaconda3/envs/casa/lib/python3.8/site-packages/astropy/io/fits/hdu/hdulist.py:214\u001B[0m, in \u001B[0;36mfitsopen\u001B[0;34m(name, mode, memmap, save_backup, cache, lazy_load_hdus, ignore_missing_simple, use_fsspec, fsspec_kwargs, **kwargs)\u001B[0m\n\u001B[1;32m    211\u001B[0m \u001B[38;5;28;01mif\u001B[39;00m \u001B[38;5;129;01mnot\u001B[39;00m name:\n\u001B[1;32m    212\u001B[0m     \u001B[38;5;28;01mraise\u001B[39;00m \u001B[38;5;167;01mValueError\u001B[39;00m(\u001B[38;5;124mf\u001B[39m\u001B[38;5;124m\"\u001B[39m\u001B[38;5;124mEmpty filename: \u001B[39m\u001B[38;5;132;01m{\u001B[39;00mname\u001B[38;5;132;01m!r}\u001B[39;00m\u001B[38;5;124m\"\u001B[39m)\n\u001B[0;32m--> 214\u001B[0m \u001B[38;5;28;01mreturn\u001B[39;00m \u001B[43mHDUList\u001B[49m\u001B[38;5;241;43m.\u001B[39;49m\u001B[43mfromfile\u001B[49m\u001B[43m(\u001B[49m\n\u001B[1;32m    215\u001B[0m \u001B[43m    \u001B[49m\u001B[43mname\u001B[49m\u001B[43m,\u001B[49m\n\u001B[1;32m    216\u001B[0m \u001B[43m    \u001B[49m\u001B[43mmode\u001B[49m\u001B[43m,\u001B[49m\n\u001B[1;32m    217\u001B[0m \u001B[43m    \u001B[49m\u001B[43mmemmap\u001B[49m\u001B[43m,\u001B[49m\n\u001B[1;32m    218\u001B[0m \u001B[43m    \u001B[49m\u001B[43msave_backup\u001B[49m\u001B[43m,\u001B[49m\n\u001B[1;32m    219\u001B[0m \u001B[43m    \u001B[49m\u001B[43mcache\u001B[49m\u001B[43m,\u001B[49m\n\u001B[1;32m    220\u001B[0m \u001B[43m    \u001B[49m\u001B[43mlazy_load_hdus\u001B[49m\u001B[43m,\u001B[49m\n\u001B[1;32m    221\u001B[0m \u001B[43m    \u001B[49m\u001B[43mignore_missing_simple\u001B[49m\u001B[43m,\u001B[49m\n\u001B[1;32m    222\u001B[0m \u001B[43m    \u001B[49m\u001B[43muse_fsspec\u001B[49m\u001B[38;5;241;43m=\u001B[39;49m\u001B[43muse_fsspec\u001B[49m\u001B[43m,\u001B[49m\n\u001B[1;32m    223\u001B[0m \u001B[43m    \u001B[49m\u001B[43mfsspec_kwargs\u001B[49m\u001B[38;5;241;43m=\u001B[39;49m\u001B[43mfsspec_kwargs\u001B[49m\u001B[43m,\u001B[49m\n\u001B[1;32m    224\u001B[0m \u001B[43m    \u001B[49m\u001B[38;5;241;43m*\u001B[39;49m\u001B[38;5;241;43m*\u001B[39;49m\u001B[43mkwargs\u001B[49m\u001B[43m,\u001B[49m\n\u001B[1;32m    225\u001B[0m \u001B[43m\u001B[49m\u001B[43m)\u001B[49m\n",
      "File \u001B[0;32m~/opt/anaconda3/envs/casa/lib/python3.8/site-packages/astropy/io/fits/hdu/hdulist.py:482\u001B[0m, in \u001B[0;36mHDUList.fromfile\u001B[0;34m(cls, fileobj, mode, memmap, save_backup, cache, lazy_load_hdus, ignore_missing_simple, **kwargs)\u001B[0m\n\u001B[1;32m    462\u001B[0m \u001B[38;5;129m@classmethod\u001B[39m\n\u001B[1;32m    463\u001B[0m \u001B[38;5;28;01mdef\u001B[39;00m \u001B[38;5;21mfromfile\u001B[39m(\n\u001B[1;32m    464\u001B[0m     \u001B[38;5;28mcls\u001B[39m,\n\u001B[0;32m   (...)\u001B[0m\n\u001B[1;32m    472\u001B[0m     \u001B[38;5;241m*\u001B[39m\u001B[38;5;241m*\u001B[39mkwargs,\n\u001B[1;32m    473\u001B[0m ):\n\u001B[1;32m    474\u001B[0m     \u001B[38;5;124;03m\"\"\"\u001B[39;00m\n\u001B[1;32m    475\u001B[0m \u001B[38;5;124;03m    Creates an `HDUList` instance from a file-like object.\u001B[39;00m\n\u001B[1;32m    476\u001B[0m \n\u001B[0;32m   (...)\u001B[0m\n\u001B[1;32m    479\u001B[0m \u001B[38;5;124;03m    documentation for details of the parameters accepted by this method).\u001B[39;00m\n\u001B[1;32m    480\u001B[0m \u001B[38;5;124;03m    \"\"\"\u001B[39;00m\n\u001B[0;32m--> 482\u001B[0m     \u001B[38;5;28;01mreturn\u001B[39;00m \u001B[38;5;28;43mcls\u001B[39;49m\u001B[38;5;241;43m.\u001B[39;49m\u001B[43m_readfrom\u001B[49m\u001B[43m(\u001B[49m\n\u001B[1;32m    483\u001B[0m \u001B[43m        \u001B[49m\u001B[43mfileobj\u001B[49m\u001B[38;5;241;43m=\u001B[39;49m\u001B[43mfileobj\u001B[49m\u001B[43m,\u001B[49m\n\u001B[1;32m    484\u001B[0m \u001B[43m        \u001B[49m\u001B[43mmode\u001B[49m\u001B[38;5;241;43m=\u001B[39;49m\u001B[43mmode\u001B[49m\u001B[43m,\u001B[49m\n\u001B[1;32m    485\u001B[0m \u001B[43m        \u001B[49m\u001B[43mmemmap\u001B[49m\u001B[38;5;241;43m=\u001B[39;49m\u001B[43mmemmap\u001B[49m\u001B[43m,\u001B[49m\n\u001B[1;32m    486\u001B[0m \u001B[43m        \u001B[49m\u001B[43msave_backup\u001B[49m\u001B[38;5;241;43m=\u001B[39;49m\u001B[43msave_backup\u001B[49m\u001B[43m,\u001B[49m\n\u001B[1;32m    487\u001B[0m \u001B[43m        \u001B[49m\u001B[43mcache\u001B[49m\u001B[38;5;241;43m=\u001B[39;49m\u001B[43mcache\u001B[49m\u001B[43m,\u001B[49m\n\u001B[1;32m    488\u001B[0m \u001B[43m        \u001B[49m\u001B[43mignore_missing_simple\u001B[49m\u001B[38;5;241;43m=\u001B[39;49m\u001B[43mignore_missing_simple\u001B[49m\u001B[43m,\u001B[49m\n\u001B[1;32m    489\u001B[0m \u001B[43m        \u001B[49m\u001B[43mlazy_load_hdus\u001B[49m\u001B[38;5;241;43m=\u001B[39;49m\u001B[43mlazy_load_hdus\u001B[49m\u001B[43m,\u001B[49m\n\u001B[1;32m    490\u001B[0m \u001B[43m        \u001B[49m\u001B[38;5;241;43m*\u001B[39;49m\u001B[38;5;241;43m*\u001B[39;49m\u001B[43mkwargs\u001B[49m\u001B[43m,\u001B[49m\n\u001B[1;32m    491\u001B[0m \u001B[43m    \u001B[49m\u001B[43m)\u001B[49m\n",
      "File \u001B[0;32m~/opt/anaconda3/envs/casa/lib/python3.8/site-packages/astropy/io/fits/hdu/hdulist.py:1170\u001B[0m, in \u001B[0;36mHDUList._readfrom\u001B[0;34m(cls, fileobj, data, mode, memmap, cache, lazy_load_hdus, ignore_missing_simple, use_fsspec, fsspec_kwargs, **kwargs)\u001B[0m\n\u001B[1;32m   1167\u001B[0m \u001B[38;5;28;01mif\u001B[39;00m fileobj \u001B[38;5;129;01mis\u001B[39;00m \u001B[38;5;129;01mnot\u001B[39;00m \u001B[38;5;28;01mNone\u001B[39;00m:\n\u001B[1;32m   1168\u001B[0m     \u001B[38;5;28;01mif\u001B[39;00m \u001B[38;5;129;01mnot\u001B[39;00m \u001B[38;5;28misinstance\u001B[39m(fileobj, _File):\n\u001B[1;32m   1169\u001B[0m         \u001B[38;5;66;03m# instantiate a FITS file object (ffo)\u001B[39;00m\n\u001B[0;32m-> 1170\u001B[0m         fileobj \u001B[38;5;241m=\u001B[39m \u001B[43m_File\u001B[49m\u001B[43m(\u001B[49m\n\u001B[1;32m   1171\u001B[0m \u001B[43m            \u001B[49m\u001B[43mfileobj\u001B[49m\u001B[43m,\u001B[49m\n\u001B[1;32m   1172\u001B[0m \u001B[43m            \u001B[49m\u001B[43mmode\u001B[49m\u001B[38;5;241;43m=\u001B[39;49m\u001B[43mmode\u001B[49m\u001B[43m,\u001B[49m\n\u001B[1;32m   1173\u001B[0m \u001B[43m            \u001B[49m\u001B[43mmemmap\u001B[49m\u001B[38;5;241;43m=\u001B[39;49m\u001B[43mmemmap\u001B[49m\u001B[43m,\u001B[49m\n\u001B[1;32m   1174\u001B[0m \u001B[43m            \u001B[49m\u001B[43mcache\u001B[49m\u001B[38;5;241;43m=\u001B[39;49m\u001B[43mcache\u001B[49m\u001B[43m,\u001B[49m\n\u001B[1;32m   1175\u001B[0m \u001B[43m            \u001B[49m\u001B[43muse_fsspec\u001B[49m\u001B[38;5;241;43m=\u001B[39;49m\u001B[43muse_fsspec\u001B[49m\u001B[43m,\u001B[49m\n\u001B[1;32m   1176\u001B[0m \u001B[43m            \u001B[49m\u001B[43mfsspec_kwargs\u001B[49m\u001B[38;5;241;43m=\u001B[39;49m\u001B[43mfsspec_kwargs\u001B[49m\u001B[43m,\u001B[49m\n\u001B[1;32m   1177\u001B[0m \u001B[43m        \u001B[49m\u001B[43m)\u001B[49m\n\u001B[1;32m   1178\u001B[0m     \u001B[38;5;66;03m# The Astropy mode is determined by the _File initializer if the\u001B[39;00m\n\u001B[1;32m   1179\u001B[0m     \u001B[38;5;66;03m# supplied mode was None\u001B[39;00m\n\u001B[1;32m   1180\u001B[0m     mode \u001B[38;5;241m=\u001B[39m fileobj\u001B[38;5;241m.\u001B[39mmode\n",
      "File \u001B[0;32m~/opt/anaconda3/envs/casa/lib/python3.8/site-packages/astropy/io/fits/file.py:218\u001B[0m, in \u001B[0;36m_File.__init__\u001B[0;34m(self, fileobj, mode, memmap, overwrite, cache, use_fsspec, fsspec_kwargs)\u001B[0m\n\u001B[1;32m    216\u001B[0m     \u001B[38;5;28mself\u001B[39m\u001B[38;5;241m.\u001B[39m_open_fileobj(fileobj, mode, overwrite)\n\u001B[1;32m    217\u001B[0m \u001B[38;5;28;01melif\u001B[39;00m \u001B[38;5;28misinstance\u001B[39m(fileobj, (\u001B[38;5;28mstr\u001B[39m, \u001B[38;5;28mbytes\u001B[39m)):\n\u001B[0;32m--> 218\u001B[0m     \u001B[38;5;28;43mself\u001B[39;49m\u001B[38;5;241;43m.\u001B[39;49m\u001B[43m_open_filename\u001B[49m\u001B[43m(\u001B[49m\u001B[43mfileobj\u001B[49m\u001B[43m,\u001B[49m\u001B[43m \u001B[49m\u001B[43mmode\u001B[49m\u001B[43m,\u001B[49m\u001B[43m \u001B[49m\u001B[43moverwrite\u001B[49m\u001B[43m)\u001B[49m\n\u001B[1;32m    219\u001B[0m \u001B[38;5;28;01melse\u001B[39;00m:\n\u001B[1;32m    220\u001B[0m     \u001B[38;5;28mself\u001B[39m\u001B[38;5;241m.\u001B[39m_open_filelike(fileobj, mode, overwrite)\n",
      "File \u001B[0;32m~/opt/anaconda3/envs/casa/lib/python3.8/site-packages/astropy/io/fits/file.py:636\u001B[0m, in \u001B[0;36m_File._open_filename\u001B[0;34m(self, filename, mode, overwrite)\u001B[0m\n\u001B[1;32m    633\u001B[0m ext \u001B[38;5;241m=\u001B[39m os\u001B[38;5;241m.\u001B[39mpath\u001B[38;5;241m.\u001B[39msplitext(\u001B[38;5;28mself\u001B[39m\u001B[38;5;241m.\u001B[39mname)[\u001B[38;5;241m1\u001B[39m]\n\u001B[1;32m    635\u001B[0m \u001B[38;5;28;01mif\u001B[39;00m \u001B[38;5;129;01mnot\u001B[39;00m \u001B[38;5;28mself\u001B[39m\u001B[38;5;241m.\u001B[39m_try_read_compressed(\u001B[38;5;28mself\u001B[39m\u001B[38;5;241m.\u001B[39mname, magic, mode, ext\u001B[38;5;241m=\u001B[39mext):\n\u001B[0;32m--> 636\u001B[0m     \u001B[38;5;28mself\u001B[39m\u001B[38;5;241m.\u001B[39m_file \u001B[38;5;241m=\u001B[39m \u001B[38;5;28;43mopen\u001B[39;49m\u001B[43m(\u001B[49m\u001B[38;5;28;43mself\u001B[39;49m\u001B[38;5;241;43m.\u001B[39;49m\u001B[43mname\u001B[49m\u001B[43m,\u001B[49m\u001B[43m \u001B[49m\u001B[43mIO_FITS_MODES\u001B[49m\u001B[43m[\u001B[49m\u001B[43mmode\u001B[49m\u001B[43m]\u001B[49m\u001B[43m)\u001B[49m\n\u001B[1;32m    637\u001B[0m     \u001B[38;5;28mself\u001B[39m\u001B[38;5;241m.\u001B[39mclose_on_error \u001B[38;5;241m=\u001B[39m \u001B[38;5;28;01mTrue\u001B[39;00m\n\u001B[1;32m    639\u001B[0m \u001B[38;5;66;03m# Make certain we're back at the beginning of the file\u001B[39;00m\n\u001B[1;32m    640\u001B[0m \u001B[38;5;66;03m# BZ2File does not support seek when the file is open for writing, but\u001B[39;00m\n\u001B[1;32m    641\u001B[0m \u001B[38;5;66;03m# when opening a file for write, bz2.BZ2File always truncates anyway.\u001B[39;00m\n",
      "\u001B[0;31mFileNotFoundError\u001B[0m: [Errno 2] No such file or directory: 'vis-r_1gauss2/residuals/residual.fits'"
     ]
    }
   ],
   "source": [
    "# hack for UTC in file but astropy wants utc\n",
    "h1 = astropy.io.fits.open(im)\n",
    "h1[0].header['TIMESYS'] = h1[0].header['TIMESYS'].lower()\n",
    "h2 = astropy.io.fits.open(res)\n",
    "h2[0].header['TIMESYS'] = h2[0].header['TIMESYS'].lower()\n",
    "\n",
    "h1[0].data *= 1e3\n",
    "h2[0].data *= 1e3\n",
    "\n",
    "fig = plt.figure(figsize=(8, 4))\n",
    "\n",
    "f1 = aplpy.FITSFigure(h1[0], figure=fig, subplot=[0.15,0.14,0.42,0.75])\n",
    "fix_aplpy_fits(f1)\n",
    "\n",
    "f2 = aplpy.FITSFigure(h2[0], figure=fig, subplot=[0.56,0.14,0.42,0.75])\n",
    "fix_aplpy_fits(f2)\n",
    "\n",
    "for f, h in ((f1,h1), (f2,h2)):\n",
    "    f.recenter(h[0].header['CRVAL1']*u.deg, h[0].header['CRVAL2']*u.deg, radius=0.0004)\n",
    "    f.show_colorscale()\n",
    "    f.add_colorbar()\n",
    "    f.colorbar.set_location('top')\n",
    "    f.colorbar.set_axis_label_text('mJy / beam')\n",
    "\n",
    "# f1.show_colorscale(vmax=0.99)\n",
    "f2.show_colorscale(vmin=-0.2, vmax=0.2, cmap='bwr_r')\n",
    "f1.show_colorscale(vmax=1.3)\n",
    "# f2.show_colorscale(cmap='bwr_r')\n",
    "\n",
    "f2.tick_labels.hide_y()\n",
    "f2.axis_labels.hide_y()\n",
    "f2.tick_labels.hide_x()\n",
    "f2.axis_labels.hide_x()\n",
    "\n",
    "fig.tight_layout()\n",
    "fig.savefig('../doc/resid.pdf')\n",
    "# fig.canvas.draw()\n",
    "# h1.close()\n",
    "# h2.close()\n",
    "# f1.close()\n",
    "# f2.close()\n",
    "# plt.close(fig)"
   ],
   "metadata": {
    "collapsed": false,
    "ExecuteTime": {
     "end_time": "2024-10-28T09:58:30.031947Z",
     "start_time": "2024-10-28T09:58:29.967763Z"
    }
   },
   "id": "dfd0ee05898a4ff0",
   "execution_count": 7
  },
  {
   "cell_type": "code",
   "outputs": [],
   "source": [],
   "metadata": {
    "collapsed": false
   },
   "id": "37a9dfcbb2dbedbd"
  }
 ],
 "metadata": {
  "kernelspec": {
   "display_name": "Python 3",
   "language": "python",
   "name": "python3"
  },
  "language_info": {
   "codemirror_mode": {
    "name": "ipython",
    "version": 2
   },
   "file_extension": ".py",
   "mimetype": "text/x-python",
   "name": "python",
   "nbconvert_exporter": "python",
   "pygments_lexer": "ipython2",
   "version": "2.7.6"
  }
 },
 "nbformat": 4,
 "nbformat_minor": 5
}
